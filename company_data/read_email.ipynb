{
 "cells": [
  {
   "cell_type": "code",
   "execution_count": 17,
   "metadata": {},
   "outputs": [],
   "source": [
    "import imaplib\n",
    "import base64\n",
    "import os\n",
    "import email\n",
    "import smtplib\n",
    "import time\n",
    "from bs4 import BeautifulSoup"
   ]
  },
  {
   "cell_type": "code",
   "execution_count": 18,
   "metadata": {},
   "outputs": [],
   "source": [
    "# extracts the body from the email\n",
    "def get_body(msg):\n",
    "    if msg.is_multipart():\n",
    "        return get_body(msg.get_payload(0))\n",
    "    else:\n",
    "        return msg.get_payload(None,True)"
   ]
  },
  {
   "cell_type": "code",
   "execution_count": 19,
   "metadata": {},
   "outputs": [],
   "source": [
    "ORG_EMAIL   = \"@gmail.com\"\n",
    "FROM_EMAIL  = \"\" + ORG_EMAIL\n",
    "FROM_PWD    = \"\"\n",
    "SMTP_SERVER = \"imap.gmail.com\"\n",
    "SMTP_PORT   = 993\n",
    "\n",
    "\n",
    "mail = imaplib.IMAP4_SSL(SMTP_SERVER)\n",
    "mail.login(FROM_EMAIL,FROM_PWD)\n",
    "mail.select('inbox')\n",
    "\n",
    "_, data = mail.search(None, 'ALL')\n",
    "mail_ids = data[0]\n",
    "\n",
    "id_list = mail_ids.split()   \n",
    "first_email_id = int(id_list[0])\n",
    "latest_email_id = int(id_list[-1])"
   ]
  },
  {
   "cell_type": "code",
   "execution_count": 38,
   "metadata": {},
   "outputs": [],
   "source": [
    "_, data = mail.fetch(b'139', '(RFC822)')\n",
    "raw = email.message_from_bytes(data[0][1])\n",
    "soup = BeautifulSoup(str(data[0]), \"html.parser\")"
   ]
  },
  {
   "cell_type": "code",
   "execution_count": null,
   "metadata": {},
   "outputs": [],
   "source": [
    "print(soup.prettify()) # print the parsed data of html"
   ]
  },
  {
   "cell_type": "code",
   "execution_count": null,
   "metadata": {},
   "outputs": [],
   "source": [
    "table_data = soup.find_all(\"tr\")\n",
    "# table_data = table.tbody.find_all(\"tr\")\n",
    "for i in range(len(table_data)):\n",
    "    stuff = table_data[i].find_all(\"td\")\n",
    "    for j in range(len(stuff)):\n",
    "        print(stuff[j].text.replace('\\n', '').strip())"
   ]
  }
 ],
 "metadata": {
  "kernelspec": {
   "display_name": "Python 3",
   "language": "python",
   "name": "python3"
  },
  "language_info": {
   "codemirror_mode": {
    "name": "ipython",
    "version": 3
   },
   "file_extension": ".py",
   "mimetype": "text/x-python",
   "name": "python",
   "nbconvert_exporter": "python",
   "pygments_lexer": "ipython3",
   "version": "3.7.4"
  }
 },
 "nbformat": 4,
 "nbformat_minor": 2
}
