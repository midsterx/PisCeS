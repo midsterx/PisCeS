{
 "cells": [
  {
   "cell_type": "code",
   "execution_count": 110,
   "metadata": {},
   "outputs": [],
   "source": [
    "import pandas as pd\n",
    "import os\n"
   ]
  },
  {
   "cell_type": "code",
   "execution_count": null,
   "metadata": {},
   "outputs": [],
   "source": [
    "os.listdir()"
   ]
  },
  {
   "cell_type": "code",
   "execution_count": null,
   "metadata": {},
   "outputs": [],
   "source": [
    "df = pd.read_csv(\"X.csv\")\n",
    "df"
   ]
  },
  {
   "cell_type": "code",
   "execution_count": null,
   "metadata": {},
   "outputs": [],
   "source": [
    "df2= pd.read_csv(\"Y.csv\")\n",
    "df2"
   ]
  },
  {
   "cell_type": "code",
   "execution_count": null,
   "metadata": {},
   "outputs": [],
   "source": [
    "df.shape"
   ]
  },
  {
   "cell_type": "code",
   "execution_count": 115,
   "metadata": {},
   "outputs": [],
   "source": [
    "important_info = {'Name':[],'SRN':[],'Gender':[],'CGPA':[],'10th %/CGPA':[],'12th %':[],\n",
    "                  'Year of pass':[],'Highest Qualification':[],'College':[],'Department':[]}"
   ]
  },
  {
   "cell_type": "code",
   "execution_count": null,
   "metadata": {},
   "outputs": [],
   "source": [
    "df['Graduate Degree Specialisation'].unique()"
   ]
  },
  {
   "cell_type": "code",
   "execution_count": 117,
   "metadata": {},
   "outputs": [],
   "source": [
    "usn = list(df['USN'])\n",
    "usn = [usn[i].upper() for i in range(len(usn))]\n",
    "df['USN']=usn"
   ]
  },
  {
   "cell_type": "code",
   "execution_count": null,
   "metadata": {
    "scrolled": true
   },
   "outputs": [],
   "source": [
    "df2['Highest Qualification Branch'].unique()"
   ]
  },
  {
   "cell_type": "code",
   "execution_count": null,
   "metadata": {},
   "outputs": [],
   "source": [
    "df.columns"
   ]
  },
  {
   "cell_type": "code",
   "execution_count": null,
   "metadata": {},
   "outputs": [],
   "source": [
    "df.loc[0,:]"
   ]
  },
  {
   "cell_type": "code",
   "execution_count": 121,
   "metadata": {},
   "outputs": [],
   "source": [
    "srn=set()\n",
    "convert = {'ECE':'Electronics and Communications', 'CSE':'Computer Science Engineering',\n",
    "           'EEE': 'Electrical and Electronics','ISE':'Information Science Engineering',\n",
    "           'Mech':'Mechanical','Civil':'Civil'}\n",
    "for i in range(df.shape[0]):\n",
    "    if(df['USN'][i] not in srn):\n",
    "        srn.add(str(df['USN'][i]).strip())\n",
    "        important_info['SRN'].append(str(df['USN'][i]).strip())\n",
    "        important_info['Name'].append(str(df['Name of the Student'][i]).strip())\n",
    "        important_info['Gender'].append(str(df['Gender'][i]).strip())\n",
    "        important_info['CGPA'].append(str(df['Graduate Degree CGPA/ %'][i]).strip())\n",
    "        important_info['10th %/CGPA'].append(str(df['10th %'][i]).strip())\n",
    "        important_info['12th %'].append(str(df['12th %'][i]).strip())\n",
    "        important_info['Year of pass'].append(2020)\n",
    "        important_info['Highest Qualification'].append('B.Tech')\n",
    "        important_info['College'].append(str(df['Campus Name'][i]).strip())\n",
    "        important_info['Department'].append(convert[df['Graduate Degree Specialisation'][i]])"
   ]
  },
  {
   "cell_type": "code",
   "execution_count": null,
   "metadata": {},
   "outputs": [],
   "source": [
    "for i in range(df2.shape[0]):\n",
    "    print(df2['SRN'][i])\n",
    "    if(df2['SRN'][i] not in srn):\n",
    "        srn.add(str(df2['SRN'][i]).strip())\n",
    "        important_info['SRN'].append(str(df2['SRN'][i]).strip())\n",
    "        important_info['Name'].append(str(df2['Candidate Full Name '][i]).strip())\n",
    "        important_info['Gender'].append(str(df2['Gender'][i]).strip())\n",
    "        important_info['CGPA'].append(str(df2['Highest Qualification CGPA'][i]).strip())\n",
    "        important_info['10th %/CGPA'].append(str(df2['Std X'][i]).strip())\n",
    "        important_info['12th %'].append(str(df2['Std XII'][i]).strip())\n",
    "        important_info['Year of pass'].append(2020)\n",
    "        important_info['Highest Qualification'].append('B.Tech')\n",
    "        important_info['College'].append(str(df2['College Name'][i]).strip())\n",
    "        important_info['Department'].append(str(df2['Highest Qualification Branch'][i]).strip())"
   ]
  },
  {
   "cell_type": "code",
   "execution_count": null,
   "metadata": {},
   "outputs": [],
   "source": [
    "len(important_info['SRN'])"
   ]
  },
  {
   "cell_type": "code",
   "execution_count": 124,
   "metadata": {},
   "outputs": [],
   "source": [
    "final_df = pd.DataFrame(important_info)"
   ]
  },
  {
   "cell_type": "code",
   "execution_count": null,
   "metadata": {},
   "outputs": [],
   "source": [
    "final_df"
   ]
  },
  {
   "cell_type": "code",
   "execution_count": null,
   "metadata": {},
   "outputs": [],
   "source": [
    "final_df.loc[final_df['SRN']=='01FB16ECS232']"
   ]
  },
  {
   "cell_type": "code",
   "execution_count": 127,
   "metadata": {},
   "outputs": [],
   "source": [
    "final_df.dropna()\n",
    "final_df.drop(final_df[final_df['12th %']=='0'].index,inplace=True)\n",
    "final_df.drop(final_df[final_df['12th %']=='Na'].index,inplace=True)\n",
    "final_df.drop(final_df[final_df['12th %']=='N/a'].index,inplace=True)"
   ]
  },
  {
   "cell_type": "code",
   "execution_count": 128,
   "metadata": {},
   "outputs": [],
   "source": [
    "import re\n",
    "pu_percent = list(final_df['12th %'])\n",
    "for i in range(len(pu_percent)):\n",
    "    try:\n",
    "        pu_percent[i] = float(re.search(r'\\d+\\.?\\d+',str(pu_percent[i])).group())\n",
    "    except:\n",
    "        print(pu_percent[i])\n",
    "final_df['12th %'] = pu_percent        "
   ]
  },
  {
   "cell_type": "code",
   "execution_count": 129,
   "metadata": {},
   "outputs": [],
   "source": [
    "cbse= list(final_df['10th %/CGPA'])\n",
    "for i in range(len(cbse)):\n",
    "    try:\n",
    "        cbse[i]=float(re.search(r'\\d+\\.?\\d*',str(cbse[i])).group())\n",
    "        if(cbse[i]<=10):\n",
    "            cbse[i]=cbse[i]*10\n",
    "    except:\n",
    "        print(cbse[i])\n"
   ]
  },
  {
   "cell_type": "code",
   "execution_count": 130,
   "metadata": {},
   "outputs": [],
   "source": [
    "final_df['10th %/CGPA'] = cbse"
   ]
  },
  {
   "cell_type": "code",
   "execution_count": 132,
   "metadata": {},
   "outputs": [],
   "source": [
    "final_df = final_df.reset_index(drop=True)"
   ]
  },
  {
   "cell_type": "code",
   "execution_count": null,
   "metadata": {},
   "outputs": [],
   "source": [
    "final_df"
   ]
  },
  {
   "cell_type": "code",
   "execution_count": 135,
   "metadata": {},
   "outputs": [],
   "source": [
    "final_df.to_csv('User_data.csv',index=False)"
   ]
  },
  {
   "cell_type": "code",
   "execution_count": 136,
   "metadata": {},
   "outputs": [],
   "source": [
    "final_df = pd.read_csv(\"User_data.csv\")"
   ]
  },
  {
   "cell_type": "code",
   "execution_count": 140,
   "metadata": {},
   "outputs": [],
   "source": [
    "cgpa=list(final_df['CGPA'])\n",
    "cgpa = [float(i) for i in cgpa]\n",
    "final_df['CGPA'] = cgpa"
   ]
  },
  {
   "cell_type": "code",
   "execution_count": 141,
   "metadata": {},
   "outputs": [],
   "source": [
    "final_df.to_csv('User_data.csv',index=False)"
   ]
  },
  {
   "cell_type": "code",
   "execution_count": null,
   "metadata": {},
   "outputs": [],
   "source": [
    "final_df.to_dict('records')"
   ]
  },
  {
   "cell_type": "code",
   "execution_count": null,
   "metadata": {},
   "outputs": [],
   "source": [
    "from pymongo import MongoClient\n",
    "client = MongoClient('mongodb://127.0.0.1:27017/?compressors=disabled&gssapiServiceName=mongodb', 27017)\n"
   ]
  },
  {
   "cell_type": "code",
   "execution_count": 158,
   "metadata": {},
   "outputs": [],
   "source": [
    "db = client.sepcs\n",
    "collection = db.user_data"
   ]
  },
  {
   "cell_type": "code",
   "execution_count": null,
   "metadata": {},
   "outputs": [],
   "source": [
    "collection.insert_many(final_df.to_dict('records'))"
   ]
  }
 ],
 "metadata": {
  "kernelspec": {
   "display_name": "Python 3",
   "language": "python",
   "name": "python3"
  },
  "language_info": {
   "codemirror_mode": {
    "name": "ipython",
    "version": 3
   },
   "file_extension": ".py",
   "mimetype": "text/x-python",
   "name": "python",
   "nbconvert_exporter": "python",
   "pygments_lexer": "ipython3",
   "version": "3.6.8"
  }
 },
 "nbformat": 4,
 "nbformat_minor": 2
}
