{
 "cells": [
  {
   "cell_type": "code",
   "execution_count": null,
   "metadata": {},
   "outputs": [],
   "source": [
    "import pandas as pd\n",
    "import os\n",
    "import plotly.graph_objs as go\n",
    "from plotly.offline import download_plotlyjs, init_notebook_mode, plot, iplot\n",
    "from nltk import Tree,ParentedTree\n",
    "%matplotlib inline\n",
    "init_notebook_mode(connected=True) "
   ]
  },
  {
   "cell_type": "code",
   "execution_count": null,
   "metadata": {},
   "outputs": [],
   "source": [
    "df = pd.read_csv(\"Details.csv\")"
   ]
  },
  {
   "cell_type": "code",
   "execution_count": null,
   "metadata": {
    "scrolled": true
   },
   "outputs": [],
   "source": [
    "df"
   ]
  },
  {
   "cell_type": "code",
   "execution_count": null,
   "metadata": {},
   "outputs": [],
   "source": [
    "import datetime\n",
    "datetime.datetime.strptime(\"9/9/2019\",\"%m/%d/%Y\")\n",
    "dates = list(df['Date that the company has come'])\n",
    "dates = [datetime.datetime.strptime(i,\"%m/%d/%Y\") for i in dates]"
   ]
  },
  {
   "cell_type": "code",
   "execution_count": null,
   "metadata": {},
   "outputs": [],
   "source": [
    "dates = list(df['Date that the company has come'])\n",
    "dates = [datetime.datetime.strptime(i,\"%m/%d/%Y\") for i in dates]\n",
    "df['Date that the company has come'] = dates\n",
    "df = df.sort_values(by='Date that the company has come')"
   ]
  },
  {
   "cell_type": "code",
   "execution_count": null,
   "metadata": {},
   "outputs": [],
   "source": [
    "df = df.reset_index(drop=True)"
   ]
  },
  {
   "cell_type": "code",
   "execution_count": null,
   "metadata": {},
   "outputs": [],
   "source": [
    "df"
   ]
  },
  {
   "cell_type": "code",
   "execution_count": null,
   "metadata": {},
   "outputs": [],
   "source": [
    "trace1=go.Scatter(x=df['Date that the company has come'],y=df['CTC'],mode = 'lines+markers',\n",
    "        hovertext = df['Name of company visited'],\n",
    "        marker = dict(\n",
    "                color = 'blue'\n",
    "                ))\n",
    "data = [trace1]\n",
    "layout = dict(\n",
    "    title='CTC of companies over time',\n",
    "    xaxis=dict(\n",
    "        rangeselector=dict(\n",
    "            buttons=list([\n",
    "                dict(count=1,\n",
    "                     label='1m',\n",
    "                     step='month',\n",
    "                     stepmode='backward'),\n",
    "                dict(count=6,\n",
    "                     label='6m',\n",
    "                     step='month',\n",
    "                     stepmode='backward'),\n",
    "                dict(count=1,\n",
    "                    label='YTD',\n",
    "                    step='year',\n",
    "                    stepmode='todate'),\n",
    "                dict(count=1,\n",
    "                    label='1y',\n",
    "                    step='year',\n",
    "                    stepmode='backward'),\n",
    "                dict(step='all')\n",
    "            ])\n",
    "        ),\n",
    "        rangeslider=dict(\n",
    "            visible = True\n",
    "        ),\n",
    "        type='date'\n",
    "    )\n",
    ")\n",
    "fig = dict(data=data, layout=layout)\n",
    "iplot(fig)\n",
    "print('Move the slider to get deeper understanding of the CTC per day/week/month')\n",
    "\n"
   ]
  },
  {
   "cell_type": "code",
   "execution_count": null,
   "metadata": {},
   "outputs": [],
   "source": [
    "ctc = df['CTC']\n",
    "dates = df['Date that the company has come']\n"
   ]
  },
  {
   "cell_type": "code",
   "execution_count": null,
   "metadata": {},
   "outputs": [],
   "source": [
    "from collections import Counter\n",
    "tier = dict(Counter(df['Tier']))\n",
    "data = [go.Bar(x=list(tier.keys()),y=list(tier.values()))]\n",
    "layout = dict(title='Tier based division of companies',xaxis=dict(title=\"Tier\"),\n",
    "              yaxis = dict(title = \"Number of companies\"))\n",
    "fig = go.Figure(data=data,layout=layout)\n",
    "iplot(fig)"
   ]
  },
  {
   "cell_type": "code",
   "execution_count": null,
   "metadata": {},
   "outputs": [],
   "source": [
    "d = {}\n",
    "df = df.reset_index(drop=True)\n",
    "for i in range(len(df)):\n",
    "    d[df['Name of company visited'][i]] = float(df[\"CTC\"][i].replace(',',''))\n",
    "print(d)\n",
    "import matplotlib.pyplot as plt\n",
    "from wordcloud import WordCloud\n",
    "\n",
    "wordcloud = WordCloud()\n",
    "wordcloud.generate_from_frequencies(frequencies=d)\n",
    "\n",
    "plt.figure(figsize = (10,10),facecolor=None)\n",
    "plt.imshow(wordcloud, interpolation=\"bilinear\")\n",
    "plt.axis(\"off\")\n",
    "plt.title('Companies that visited')\n",
    "plt.show()"
   ]
  },
  {
   "cell_type": "code",
   "execution_count": null,
   "metadata": {},
   "outputs": [],
   "source": [
    "from plotly.subplots import make_subplots\n",
    "fig = make_subplots(rows=3, cols=2,subplot_titles=('July',\"August\",\"September\",\"October\",\"November\"))\n",
    "current=1\n",
    "current_col = 1\n",
    "for i in range(8,13):\n",
    "    modified = df[(df['Date that the company has come']<datetime.datetime.strptime(\"2019-\"+str(i)+\"-01\",\"%Y-%m-%d\")) & (df['Date that the company has come']>datetime.datetime.strptime(\"2019-\"+str(i-1)+\"-01\",\"%Y-%m-%d\"))]\n",
    "    #print('modified',modified)\n",
    "    if(len(modified)):\n",
    "        tier = dict(Counter(modified['Tier']))\n",
    "        #print(current,current_col)\n",
    "        fig.add_trace(go.Bar(x=list(tier.keys()),y=list(tier.values()),hovertext=list(tier.values())),row = current,col = current_col)\n",
    "        current_col+=1\n",
    "        #print(current,current_col)\n",
    "        if(current_col==3):\n",
    "            current_col=1\n",
    "            current+=1\n",
    "fig.update_layout(showlegend=False,height=1000,width=800,title=\"Tier division for different months\") \n",
    "\n",
    "\n",
    "fig.update_yaxes(title_text=\"Number of companies\", row=1, col=1)\n",
    "fig.update_yaxes(title_text=\"Number of companies\", row=1, col=2)\n",
    "fig.update_yaxes(title_text=\"Number of companies\", row=2, col=1)\n",
    "fig.update_yaxes(title_text=\"Number of companies\", row=2, col=2)\n",
    "fig.update_yaxes(title_text=\"Number of companies\", row=3, col=1)\n",
    "\n",
    "fig.update_xaxes(title_text=\"Tier\", row=1, col=1)\n",
    "fig.update_xaxes(title_text=\"Tier\", row=1, col=2)\n",
    "fig.update_xaxes(title_text=\"Tier\", row=2, col=1)\n",
    "fig.update_xaxes(title_text=\"Tier\", row=2, col=2)\n",
    "fig.update_xaxes(title_text=\"Tier\", row=3, col=1)\n",
    "iplot(fig)"
   ]
  },
  {
   "cell_type": "code",
   "execution_count": null,
   "metadata": {},
   "outputs": [],
   "source": [
    "import requests\n",
    "from bs4 import BeautifulSoup\n",
    "import wikipedia\n",
    "\n",
    "def get_wiki_summary(page_soup):\n",
    "    summary = \"\"\n",
    "    paragraphs = page_soup.findAll()\n",
    "    for paragraph in paragraphs:\n",
    "        if paragraph.name == \"p\":\n",
    "            summary += paragraph.text + \" \"\n",
    "            #print(\"Adding summary\")\n",
    "        elif paragraph.name == \"div\" and paragraph.has_attr('class') and paragraph['class'][0] == 'toc':\n",
    "            break\n",
    "\n",
    "    #print(summary)\n",
    "    return summary\n",
    "\n",
    "\n",
    "def get_wiki_company_categories(page_soup):\n",
    "    categories = []\n",
    "    table_html = str(page_soup.find(\"table\", {\"class\": \"infobox vcard\"}))\n",
    "    if table_html == \"None\":\n",
    "        #print(\"Returning none\")\n",
    "        return categories\n",
    "    soup_table = BeautifulSoup(table_html, 'html.parser')\n",
    "    td_list = soup_table.findAll(\"td\", {\"class\": \"category\"})\n",
    "\n",
    "    for item in td_list:\n",
    "        if item.previous_sibling is not None and item.previous_sibling.text == \"Industry\":\n",
    "            a_tag_list = BeautifulSoup(str(item), 'html.parser').findAll(\"a\")\n",
    "            for tag in a_tag_list:\n",
    "                categories.append(tag.text)\n",
    "\n",
    "    #print(categories)\n",
    "    return categories\n",
    "\n",
    "def get_wiki_company_suggestions(page_title):\n",
    "    suggestions = wikipedia.search(page_title)\n",
    "    for item in suggestions:\n",
    "        if item.lower() == page_title.lower():\n",
    "            categories_list = wikipedia.WikipediaPage(item).categories\n",
    "            for category in categories_list:\n",
    "                if \"companies\" or \"company\" in category:\n",
    "                    return item \n",
    "            return None\n",
    "    return None\n",
    "\n",
    "\n",
    "\n",
    "\n",
    "def get_wiki_info(page_title):  \n",
    "    response = requests.get(\"https://en.wikipedia.org/wiki/\"+page_title)\n",
    "    if response.status_code != 200:\n",
    "        suggestion = get_wiki_company_suggestions(page_title)\n",
    "        if suggestion == None:\n",
    "            return [None, None]\n",
    "        response = requests.get(\"https://en.wikipedia.org/wiki/\"+suggestion)        \n",
    "\n",
    "    page_html = response.content\n",
    "    page_soup = BeautifulSoup(page_html, 'html.parser')\n",
    "    \n",
    "    summary = get_wiki_summary(page_soup)\n",
    "\n",
    "    categories = get_wiki_company_categories(page_soup)\n",
    "\n",
    "    return [summary, categories]\n"
   ]
  },
  {
   "cell_type": "code",
   "execution_count": null,
   "metadata": {},
   "outputs": [],
   "source": [
    "company_names = list(df['Name of company visited'])\n",
    "categories = []\n",
    "for i in company_names:\n",
    "    b = get_wiki_info(i)\n",
    "    #print(i,end=' ')\n",
    "    if(b[1]!=None and b[1]!=[]):\n",
    "        print(b[1][0])\n",
    "        categories.append(b[1][0])\n",
    "    else:\n",
    "        categories.append('Others')"
   ]
  },
  {
   "cell_type": "code",
   "execution_count": null,
   "metadata": {},
   "outputs": [],
   "source": [
    "print(list(set(categories)))\n",
    "df['category']=categories\n",
    "df.to_csv('detail.csv',index=False)"
   ]
  },
  {
   "cell_type": "code",
   "execution_count": null,
   "metadata": {},
   "outputs": [],
   "source": [
    "counts = (Counter(categories))\n",
    "del counts['Others']\n",
    "a = counts.most_common()\n",
    "x_value=[]\n",
    "y_value=[]\n",
    "for i in a:\n",
    "    x_value.append(i[0])\n",
    "    y_value.append(i[1])\n",
    "print(a)\n",
    "data = [go.Bar(x=x_value,y=y_value)]\n",
    "layout = dict(title='Different Company categories',xaxis=dict(title=\"Company categories\"),\n",
    "              yaxis = dict(title = \"Number of companies\"))\n",
    "fig = go.Figure(data=data,layout=layout)\n",
    "    \n",
    "iplot(fig)"
   ]
  },
  {
   "cell_type": "code",
   "execution_count": null,
   "metadata": {},
   "outputs": [],
   "source": [
    "df"
   ]
  },
  {
   "cell_type": "code",
   "execution_count": null,
   "metadata": {},
   "outputs": [],
   "source": [
    "import random\n",
    "random.randint(1,10)"
   ]
  },
  {
   "cell_type": "code",
   "execution_count": null,
   "metadata": {},
   "outputs": [],
   "source": [
    "num_of_people = []\n",
    "for i in range(len(df)):\n",
    "    p = random.randint(1,15)\n",
    "    num_of_people.append(random.randint(1,p))"
   ]
  },
  {
   "cell_type": "code",
   "execution_count": null,
   "metadata": {},
   "outputs": [],
   "source": [
    "df['number']=num_of_people"
   ]
  },
  {
   "cell_type": "code",
   "execution_count": null,
   "metadata": {},
   "outputs": [],
   "source": [
    "df.to_csv('detail.csv',index=False)"
   ]
  },
  {
   "cell_type": "code",
   "execution_count": null,
   "metadata": {},
   "outputs": [],
   "source": [
    "values=[]\n",
    "for i in range(8,13):\n",
    "    modified = df[(df['Date that the company has come']<datetime.datetime.strptime(\"2019-\"+str(i)+\"-01\",\"%Y-%m-%d\")) & (df['Date that the company has come']>datetime.datetime.strptime(\"2019-\"+str(i-1)+\"-01\",\"%Y-%m-%d\"))]\n",
    "    #print('modified',modified)\n",
    "    if(len(modified)):\n",
    "        tier = sum(modified['number'])\n",
    "        values.append(tier)\n",
    "\n",
    "        \n",
    "data = [go.Bar(x=['July','August','September','October','November'],y=values)]\n",
    "layout = dict(title='How many students are placed?',xaxis=dict(title=\"Month\"),\n",
    "              yaxis = dict(title = \"Number of students\"))\n",
    "fig = go.Figure(data=data,layout=layout)\n",
    "iplot(fig)"
   ]
  },
  {
   "cell_type": "code",
   "execution_count": null,
   "metadata": {},
   "outputs": [],
   "source": [
    "values = []\n",
    "for i in range(1,4):\n",
    "    modified = df[df['Tier']==i]\n",
    "    values.append(sum(modified['number']))\n",
    "\n",
    "    \n",
    "data = [go.Bar(x=['Tier-1','Tier-2','Tier-3'],y=values)]\n",
    "layout = dict(title='Students composition based on company tiers',xaxis=dict(title=\"Month\"),\n",
    "              yaxis = dict(title = \"Number of students\"))\n",
    "fig = go.Figure(data=data,layout=layout)\n",
    "iplot(fig)\n"
   ]
  },
  {
   "cell_type": "code",
   "execution_count": null,
   "metadata": {},
   "outputs": [],
   "source": [
    "data = [go.Box(x=df['CTC'],name='CTC offered',boxmean=True )]\n",
    "layout = dict(title='CTC summary',xaxis=dict(title='CTC'))\n",
    "fig = go.Figure(data=data,layout=layout)\n",
    "iplot(fig)"
   ]
  },
  {
   "cell_type": "code",
   "execution_count": null,
   "metadata": {},
   "outputs": [],
   "source": [
    "ctc = list(df['CTC'])\n",
    "values =[]\n",
    "results = ctc[2:]\n",
    "results = [float(i.replace(',',''))/100000 for i in results]\n",
    "for i in range(len(ctc)-1):\n",
    "    values.append([float(ctc[i].replace(',',''))/100000,float(ctc[i+1].replace(',',''))/100000])"
   ]
  },
  {
   "cell_type": "code",
   "execution_count": null,
   "metadata": {},
   "outputs": [],
   "source": [
    "values,results"
   ]
  },
  {
   "cell_type": "code",
   "execution_count": null,
   "metadata": {},
   "outputs": [],
   "source": [
    "len(values)"
   ]
  },
  {
   "cell_type": "code",
   "execution_count": null,
   "metadata": {},
   "outputs": [],
   "source": [
    "len(results)"
   ]
  },
  {
   "cell_type": "code",
   "execution_count": null,
   "metadata": {},
   "outputs": [],
   "source": [
    "values.pop()"
   ]
  },
  {
   "cell_type": "code",
   "execution_count": null,
   "metadata": {},
   "outputs": [],
   "source": [
    "import numpy as np\n",
    "train_x = np.array(values[:70])\n",
    "train_y = np.array(results[:70])\n",
    "test_x = np.array(values[70:])\n",
    "test_y = np.array(results[70:])"
   ]
  },
  {
   "cell_type": "code",
   "execution_count": null,
   "metadata": {},
   "outputs": [],
   "source": [
    "from numpy import array\n",
    "from keras.models import Sequential\n",
    "from keras.layers import LSTM\n",
    "from keras.layers import Dense\n",
    "\n",
    "n_features = 1\n",
    "train_x = train_x.reshape((train_x.shape[0], train_x.shape[1], n_features))\n",
    "# define model"
   ]
  },
  {
   "cell_type": "code",
   "execution_count": null,
   "metadata": {},
   "outputs": [],
   "source": [
    "model = Sequential()\n",
    "model.add(LSTM(7, activation='relu', input_shape=(2, n_features)))\n",
    "model.add(Dense(1))\n",
    "model.compile(optimizer='adam', loss='mse')\n",
    "model.fit(train_x, train_y, epochs=400, verbose=0)"
   ]
  },
  {
   "cell_type": "code",
   "execution_count": null,
   "metadata": {},
   "outputs": [],
   "source": [
    "test_x = test_x.reshape(test_x.shape[0],test_x.shape[1],n_features)"
   ]
  },
  {
   "cell_type": "code",
   "execution_count": null,
   "metadata": {},
   "outputs": [],
   "source": [
    "yhat = model.predict(test_x, verbose=1)\n"
   ]
  },
  {
   "cell_type": "code",
   "execution_count": null,
   "metadata": {},
   "outputs": [],
   "source": [
    "mses = ((test_y-yhat)**2).mean(axis=1)\n",
    "import math\n",
    "print(math.sqrt(sum(mses)/len(mses)))\n",
    "yhat_train = model.predict(train_x, verbose=1)\n",
    "mses = ((train_y-yhat_train)**2).mean(axis=1)\n",
    "print(math.sqrt(sum(mses)/len(mses)))"
   ]
  },
  {
   "cell_type": "code",
   "execution_count": null,
   "metadata": {},
   "outputs": [],
   "source": [
    "train_x\n",
    "x_axis =[i for i in range(len(train_x)+len(train_y))]\n",
    "trace1=go.Scatter(x=x_axis,y=list(yhat_train.reshape(len(yhat_train)))+list(yhat.reshape(len(yhat))),name='predicted',mode = 'lines+markers')\n",
    "trace2=go.Scatter(x=x_axis,y=list(train_y.reshape(len(train_y)))+list(test_y.reshape(len(test_y))),name='actual',mode = 'lines+markers')\n",
    "fig = go.Figure(data=[trace1,trace2])\n",
    "iplot(fig)"
   ]
  },
  {
   "cell_type": "code",
   "execution_count": null,
   "metadata": {},
   "outputs": [],
   "source": [
    "train_y"
   ]
  },
  {
   "cell_type": "code",
   "execution_count": null,
   "metadata": {},
   "outputs": [],
   "source": [
    "yhat.reshape(len(yhat))"
   ]
  },
  {
   "cell_type": "code",
   "execution_count": null,
   "metadata": {},
   "outputs": [],
   "source": [
    "model.save('ctc_lstm.h5')"
   ]
  },
  {
   "cell_type": "code",
   "execution_count": null,
   "metadata": {},
   "outputs": [],
   "source": []
  }
 ],
 "metadata": {
  "kernelspec": {
   "display_name": "Python 3",
   "language": "python",
   "name": "python3"
  },
  "language_info": {
   "codemirror_mode": {
    "name": "ipython",
    "version": 3
   },
   "file_extension": ".py",
   "mimetype": "text/x-python",
   "name": "python",
   "nbconvert_exporter": "python",
   "pygments_lexer": "ipython3",
   "version": "3.6.8"
  }
 },
 "nbformat": 4,
 "nbformat_minor": 2
}
